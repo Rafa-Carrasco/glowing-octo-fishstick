{
    "cells": [
        {
            "cell_type": "markdown",
            "metadata": {},
            "source": [
                "# Explore here"
            ]
        },
        {
            "cell_type": "code",
            "execution_count": null,
            "metadata": {},
            "outputs": [],
            "source": [
                "import os\n",
                "import pandas as pd\n",
                "import requests\n",
                "import matplotlib.pyplot as plt \n",
                "import seaborn as sns\n",
                "from sklearn.model_selection import train_test_split\n",
                "\n",
                "# 1. descargar data\n",
                "\n",
                "# url = \"https://raw.githubusercontent.com/4GeeksAcademy/linear-regression-project-tutorial/main/medical_insurance_cost.csv\"\n",
                "# respuesta = requests.get(url)\n",
                "# nombre_archivo = \"medical_insurance_cost.csv\"\n",
                "# with open(nombre_archivo, 'wb') as archivo:\n",
                "#     archivo.write(respuesta.content)\n",
                "\n",
                "\n",
                "# 2. convertir csv en dataframe\n",
                "\n",
                "total_data = pd.read_csv(\"../data/raw/medical_insurance_cost.csv\")\n",
                "total_data.shape\n",
                "total_data.info()\n",
                "total_data.head()\n",
                "\n",
                "# buscar duplicados\n",
                "\n",
                "total_data_sin = total_data.drop_duplicates()\n",
                "total_data_sin.shape\n",
                "# print(total_data.columns)\n"
            ]
        },
        {
            "cell_type": "markdown",
            "metadata": {},
            "source": [
                "Limpieza de datos\n",
                "- No hay duplicados ni valores nulos\n",
                "- Ninguna variables es objetivamente eliminable de entrada\n",
                "- 4 variables numericas y 3 categoricas\n",
                "- "
            ]
        },
        {
            "cell_type": "code",
            "execution_count": null,
            "metadata": {},
            "outputs": [],
            "source": [
                "fig, axis = plt.subplots(2, 3, figsize = (10, 7))\n",
                "\n",
                "# Crear un histograma múltiple\n",
                "sns.histplot(ax = axis[0, 0], data = total_data, x = \"sex\").set(ylabel = None)\n",
                "sns.histplot(ax = axis[0, 1], data = total_data, x = \"smoker\").set(ylabel = None)\n",
                "sns.histplot(ax = axis[0, 2], data = total_data, x = \"region\").set(ylabel = None)\n",
                "\n",
                "plt.tight_layout()\n",
                "plt.show()"
            ]
        },
        {
            "cell_type": "markdown",
            "metadata": {},
            "source": [
                "Analisis univariable categorico\n",
                "\n",
                "- numero de hombres y mujeres es muy similar \n",
                "- 3/4 partes son no fumadores\n",
                "- la distribucion regional es muy similar, con una ligera mayoria de usuarios del South East  "
            ]
        },
        {
            "cell_type": "code",
            "execution_count": null,
            "metadata": {},
            "outputs": [],
            "source": [
                "fig, axis = plt.subplots(2, 4, figsize = (10, 7), gridspec_kw={'height_ratios': [6, 1]})\n",
                "\n",
                "# Crear una figura múltiple con histogramas y diagramas de caja\n",
                "sns.histplot(ax = axis[0, 0], data = total_data, x = \"age\").set(xlabel = None)\n",
                "sns.boxplot(ax = axis[1, 0], data = total_data, x = \"age\")\n",
                "sns.histplot(ax = axis[0, 1], data = total_data, x = \"bmi\").set(xlabel = None, ylabel = None)\n",
                "sns.boxplot(ax = axis[1, 1], data = total_data, x = \"bmi\")\n",
                "sns.histplot(ax = axis[0, 2], data = total_data, x = \"children\").set(xlabel = None)\n",
                "sns.boxplot(ax = axis[1, 2], data = total_data, x = \"children\")\n",
                "sns.histplot(ax = axis[0, 3], data = total_data, x = \"charges\").set(xlabel = None, ylabel = None)\n",
                "sns.boxplot(ax = axis[1, 3], data = total_data, x = \"charges\")\n",
                "# Ajustar el layout\n",
                "plt.tight_layout()\n",
                "\n",
                "# Mostrar el plot\n",
                "plt.show()"
            ]
        },
        {
            "cell_type": "markdown",
            "metadata": {},
            "source": [
                "Analisis univariable numerica"
            ]
        },
        {
            "cell_type": "markdown",
            "metadata": {},
            "source": [
                "\n",
                "\n",
                "De esta visualizacion podemos ver que:\n",
                "\n",
                "- age tiene una distribucion simetrica practicamente perfecta\n",
                "- bmi tiene un ligero sesgo hacia los valores mas bajos y algunos valores atipicos en los maximos\n",
                "- children : asimetrica negativa. valores menores estan muy concentrados\n",
                "- charges : asimetrica negativa. valores menores muy concentrados. Importante numero de valores atipicos.   \n",
                "\n"
            ]
        },
        {
            "cell_type": "code",
            "execution_count": null,
            "metadata": {},
            "outputs": [],
            "source": [
                "# analis multivariable numerico entre predictoras y target (1)\n",
                "\n",
                "fig, axis = plt.subplots(2, 3, figsize = (10, 7))\n",
                "\n",
                "# Crear un diagrama de dispersión múltiple\n",
                "sns.regplot(ax = axis[0, 0], data = total_data, x = \"age\", y = \"charges\")\n",
                "sns.heatmap(total_data[[\"charges\", \"age\"]].corr(), annot = True, fmt = \".2f\", ax = axis[1, 0], cbar = False)\n",
                "sns.regplot(ax = axis[0, 1], data = total_data, x = \"bmi\", y = \"charges\").set(ylabel=None)\n",
                "sns.heatmap(total_data[[\"charges\", \"bmi\"]].corr(), annot = True, fmt = \".2f\", ax = axis[1, 1])\n",
                "sns.regplot(ax = axis[0, 2], data = total_data, x = \"children\", y = \"charges\").set(ylabel=None)\n",
                "sns.heatmap(total_data[[\"charges\", \"children\"]].corr(), annot = True, fmt = \".2f\", ax = axis[1, 2])\n",
                "\n",
                "# Ajustar el layout\n",
                "plt.tight_layout()\n",
                "\n",
                "# Mostrar el plot\n",
                "plt.show()"
            ]
        },
        {
            "cell_type": "markdown",
            "metadata": {},
            "source": [
                "Analisis multivariable numerico-numerico (1)\n",
                "\n",
                "- correlacion directa debil fuerte entre age y target \n",
                "- correlacion directa mas debil entre bmi y el target\n",
                "- correlacion muy debil entre numero de hijos y target\n"
            ]
        },
        {
            "cell_type": "code",
            "execution_count": null,
            "metadata": {},
            "outputs": [],
            "source": [
                "fig, axis = plt.subplots(figsize = (10, 6))\n",
                "\n",
                "sns.heatmap(total_data[['age', 'bmi', 'children', 'charges']].corr(), annot = True, fmt = \".2f\")\n",
                "\n",
                "plt.tight_layout()\n",
                "plt.show()"
            ]
        },
        {
            "cell_type": "markdown",
            "metadata": {},
            "source": [
                "- las variables bmi y age son las que tienen una correlacion directa mas alta con el objetivo.\n",
                "Las demas tienen una correlacion muy debil con el target e incluso entre ellas. La unica reseñable sería bmi con age\n"
            ]
        },
        {
            "cell_type": "code",
            "execution_count": null,
            "metadata": {},
            "outputs": [],
            "source": [
                "# print(total_data.columns) ['age', 'sex', 'bmi', 'children', 'smoker', 'region', 'charges']\n",
                "\n",
                "total_data[\"sex_n\"] = pd.factorize(total_data[\"sex\"])[0]\n",
                "total_data[\"smoker_n\"] = pd.factorize(total_data[\"smoker\"])[0]\n",
                "total_data[\"region_n\"] = pd.factorize(total_data[\"region\"])[0]\n",
                "\n",
                "fig, axis = plt.subplots(figsize = (10, 6))\n",
                "\n",
                "sns.heatmap(total_data[['age', 'sex_n', 'bmi', 'children', 'smoker_n', 'region_n', 'charges']].corr(), annot = True, fmt = \".2f\")\n",
                "\n",
                "plt.tight_layout()\n",
                "plt.show()"
            ]
        },
        {
            "cell_type": "markdown",
            "metadata": {},
            "source": [
                "Análisis numérico-categórico (completo) \n",
                "\n",
                "- no revela ninguna otra correlacion directa reseñable que las ya conocidas. \n",
                "- sorprende la fuerte correlacion negativa de smoker con el objetivo. "
            ]
        },
        {
            "cell_type": "code",
            "execution_count": null,
            "metadata": {},
            "outputs": [],
            "source": [
                "# analisis de outliers\n",
                "\n",
                "total_data.describe()\n"
            ]
        },
        {
            "cell_type": "code",
            "execution_count": null,
            "metadata": {},
            "outputs": [],
            "source": [
                "# analisis  de outliers 'age', 'sex_n', 'bmi', 'children', 'smoker_n', 'region_n', 'charges'\n",
                "\n",
                "fig, axis = plt.subplots(3, 3, figsize = (15, 10))\n",
                "\n",
                "sns.boxplot(ax = axis[0, 0], data = total_data, y = \"age\")\n",
                "sns.boxplot(ax = axis[0, 1], data = total_data, y = \"sex_n\")\n",
                "sns.boxplot(ax = axis[0, 2], data = total_data, y = \"bmi\")\n",
                "sns.boxplot(ax = axis[1, 0], data = total_data, y = \"children\")\n",
                "sns.boxplot(ax = axis[1, 1], data = total_data, y = \"smoker_n\")\n",
                "sns.boxplot(ax = axis[1, 2], data = total_data, y = \"region_n\")\n",
                "sns.boxplot(ax = axis[2, 0], data = total_data, y = \"charges\")\n",
                "\n",
                "plt.tight_layout()\n",
                "\n",
                "plt.show()"
            ]
        },
        {
            "cell_type": "markdown",
            "metadata": {},
            "source": [
                "la variable charges (objetivo) es la que mas outliers tiene. \n",
                "Mientras que el 75% de los valores se acercan a la media (13270), el maximo llega a los 63770. \n",
                "Reemplazamos valores usando upper y lower limit. "
            ]
        },
        {
            "cell_type": "code",
            "execution_count": null,
            "metadata": {},
            "outputs": [],
            "source": [
                "charges_stats = total_data[\"charges\"].describe()\n",
                "charges_stats\n",
                "\n",
                "bmi_stats = total_data[\"bmi\"].describe()\n",
                "bmi_stats"
            ]
        },
        {
            "cell_type": "code",
            "execution_count": null,
            "metadata": {},
            "outputs": [],
            "source": [
                "charges_iqr = charges_stats[\"75%\"] - charges_stats[\"25%\"]\n",
                "upper_limit = charges_stats[\"75%\"] + 1.5 * charges_iqr\n",
                "lower_limit = charges_stats[\"25%\"] - 1.5 * charges_iqr\n",
                "\n",
                "print(f\"Los límites superior e inferior para la búsqueda de outliers en la variable CHARGES son {round(upper_limit, 2)} y {round(lower_limit, 2)}\")\n",
                "\n",
                "total_data[total_data[\"charges\"] > 35000]\n",
                "\n",
                "# filtramos los valores superiores al upper limit\n",
                "\n",
                "total_data_fil = total_data[total_data[\"charges\"] <= 35000]\n",
                "\n",
                "\n",
                "# eliminar outliers para bmi\n",
                "\n",
                "bmi_iqr = bmi_stats[\"75%\"] - bmi_stats[\"25%\"]\n",
                "upper_limit = bmi_stats[\"75%\"] + 1.5 * bmi_iqr\n",
                "lower_limit = bmi_stats[\"25%\"] - 1.5 * bmi_iqr\n",
                "\n",
                "print(f\"Los límites superior e inferior para la búsqueda de outliers en la variable BMI son {round(upper_limit, 2)} y {round(lower_limit, 2)}\")\n",
                "\n",
                "# pero segun la World Health Organization (WHO)  UN bmi ≥ 40 EQUIVALE A Morbid Obesity/Class III \n",
                "# print(total_data_fil.columns) \n",
                "\n",
                "# filtramos los valores de bmi superiores a 40 \n",
                "\n",
                "total_data_fil2 = total_data_fil[total_data_fil[\"bmi\"] < 40]\n",
                "\n",
                "total_data_fil2 = total_data_fil.drop(columns=['smoker', 'region', 'sex', 'region_n', 'sex_n'])\n",
                "total_data_fil2.shape\n"
            ]
        },
        {
            "cell_type": "code",
            "execution_count": null,
            "metadata": {},
            "outputs": [],
            "source": [
                "from sklearn.model_selection import train_test_split\n",
                "\n",
                "# Dividimos el conjunto de datos en muestras de train y test\n",
                "X = total_data_fil2.drop(\"charges\", axis = 1)\n",
                "y = total_data_fil2[\"charges\"]\n",
                "\n",
                "X_train, X_test, y_train, y_test = train_test_split(X, y, test_size = 0.2, random_state = 42)\n",
                "\n",
                "X_train.head()"
            ]
        },
        {
            "cell_type": "code",
            "execution_count": null,
            "metadata": {},
            "outputs": [],
            "source": [
                "# escalamiento min-max\n",
                " \n",
                "from sklearn.preprocessing import MinMaxScaler\n",
                "\n",
                "col_names = ['age', 'bmi', 'children', 'smoker_n']\n",
                "scaler = MinMaxScaler()\n",
                "scaler.fit(X_train)\n",
                "\n",
                "X_train_scal = scaler.transform(X_train)\n",
                "X_train_scal = pd.DataFrame(X_train_scal, index = X_train.index, columns=col_names)\n",
                "X_test_scal = scaler.transform(X_test)\n",
                "X_test_scal = pd.DataFrame(X_test_scal, index = X_test.index, columns=col_names)\n",
                "\n",
                "X_train_scal.head()"
            ]
        },
        {
            "cell_type": "code",
            "execution_count": null,
            "metadata": {},
            "outputs": [],
            "source": [
                "X_train_scal.to_csv(\"../data/interim/medical_insu_train.csv\", index=False)\n",
                "X_test_scal.to_csv(\"../data/interim/medical_insu_test.csv\", index=False)"
            ]
        },
        {
            "cell_type": "code",
            "execution_count": null,
            "metadata": {},
            "outputs": [],
            "source": [
                "from sklearn.linear_model import LinearRegression\n",
                "\n",
                "model = LinearRegression()\n",
                "model.fit(X_train_scal, y_train)\n",
                "\n",
                "print(f\"Intercepto (a): {model.intercept_}\")\n",
                "print(f\"Coeficientes (b1, b2): {model.coef_}\")"
            ]
        },
        {
            "cell_type": "code",
            "execution_count": null,
            "metadata": {},
            "outputs": [],
            "source": [
                "y_pred = model.predict(X_test_scal)\n",
                "y_pred"
            ]
        },
        {
            "cell_type": "code",
            "execution_count": null,
            "metadata": {},
            "outputs": [],
            "source": [
                "from sklearn.metrics import mean_squared_error, r2_score\n",
                "\n",
                "print(f\"Error cuadrático medio: {mean_squared_error(y_test, y_pred)}\")\n",
                "print(f\"Coeficiente de determinación: {r2_score(y_test, y_pred)}\")"
            ]
        },
        {
            "cell_type": "code",
            "execution_count": null,
            "metadata": {},
            "outputs": [],
            "source": [
                "# # optimizacion con lasso \n",
                "\n",
                "from sklearn.linear_model import Lasso\n",
                "from sklearn.metrics import mean_squared_error\n",
                "\n",
                "lasso_model = Lasso(alpha=0.2)  # alpha es el parámetro de regularización\n",
                "\n",
                "# Entrenar el modelo\n",
                "lasso_model.fit(X_train_scal, y_train)\n",
                "\n",
                "# Hacer predicciones\n",
                "y_pred = lasso_model.predict(X_test_scal)\n",
                "\n",
                "# Evaluar el modelo\n",
                "mse = mean_squared_error(y_test, y_pred)\n",
                "print(\"Error cuasdratico medio (Lasso):\", mse)\n",
                "print(\"Coeficientes (Lasso):\", lasso_model.coef_)\n",
                "print(\"Intercepto (Lasso):\", lasso_model.intercept_)\n",
                "\n",
                "# optimizacion con ridge \n",
                "\n",
                "from sklearn.linear_model import Ridge\n",
                "\n",
                "# Entrenar el modelo de regresión Ridge\n",
                "\n",
                "ridge_model = Ridge(alpha=1.0)\n",
                "ridge_model.fit(X_train_scal, y_train)\n",
                "y_pred = ridge_model.predict(X_test_scal)\n",
                "r2 = r2_score(y_test, y_pred)\n",
                "print(\"R2 score:\", r2)\n"
            ]
        }
    ],
    "metadata": {
        "kernelspec": {
            "display_name": "Python 3.8.13 64-bit ('3.8.13')",
            "language": "python",
            "name": "python3"
        },
        "language_info": {
            "codemirror_mode": {
                "name": "ipython",
                "version": 3
            },
            "file_extension": ".py",
            "mimetype": "text/x-python",
            "name": "python",
            "nbconvert_exporter": "python",
            "pygments_lexer": "ipython3",
            "version": "3.10.12"
        },
        "orig_nbformat": 4,
        "vscode": {
            "interpreter": {
                "hash": "110cc1dee26208153f2972f08a2ad52b6a56238dc66d48e87fb757ef2996db56"
            }
        }
    },
    "nbformat": 4,
    "nbformat_minor": 2
}
